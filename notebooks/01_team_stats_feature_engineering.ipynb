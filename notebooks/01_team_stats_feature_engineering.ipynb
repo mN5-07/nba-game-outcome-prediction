{
 "cells": [
  {
   "cell_type": "code",
   "execution_count": 58,
   "id": "9beca685",
   "metadata": {},
   "outputs": [],
   "source": [
    "import pandas as pd\n",
    "import numpy as np"
   ]
  },
  {
   "cell_type": "code",
   "execution_count": null,
   "id": "08e9341b",
   "metadata": {},
   "outputs": [],
   "source": [
    "# Read in Datasets\n",
    "games = pd.read_csv(r'..\\data\\raw\\Games.csv', dtype={\"gameSubLabel\": str})\n",
    "team_stats = pd.read_csv(r'..\\data\\raw\\TeamStatistics.csv')"
   ]
  },
  {
   "cell_type": "code",
   "execution_count": null,
   "id": "17473aa0",
   "metadata": {},
   "outputs": [],
   "source": [
    "# Merges games onto team_stats using gameId\n",
    "team_game = team_stats.merge(\n",
    "    games[['gameId', 'homeScore', 'awayScore', 'hometeamId', 'awayteamId', 'attendance', 'arenaId']],\n",
    "    on='gameId',\n",
    "    how='left'\n",
    ")"
   ]
  },
  {
   "cell_type": "code",
   "execution_count": null,
   "id": "39478c8f",
   "metadata": {},
   "outputs": [],
   "source": [
    "#\n",
    "team_game['opponentTeamId'] = np.where(\n",
    "    team_game['teamId'] == team_game['hometeamId'],\n",
    "    team_game['awayteamId'],\n",
    "    team_game['hometeamId']\n",
    ")\n",
    "\n",
    "team_game['opponentScore'] = np.where(\n",
    "    team_game['teamId'] == team_game['hometeamId'],\n",
    "    team_game['awayScore'],\n",
    "    team_game['homeScore']\n",
    ")"
   ]
  },
  {
   "cell_type": "code",
   "execution_count": 80,
   "id": "1ad5320f",
   "metadata": {},
   "outputs": [],
   "source": [
    "team_game['is_home'] = team_game['home'].astype(bool)"
   ]
  },
  {
   "cell_type": "code",
   "execution_count": null,
   "id": "2c7db9f3",
   "metadata": {},
   "outputs": [],
   "source": [
    "# Calculating eFG% (Effective Field Goal Percentage)\n",
    "team_game['efg'] = (team_game['fieldGoalsMade'] + 0.5 * team_game['threePointersMade']) / team_game['fieldGoalsAttempted']\n",
    "team_game['efg'] = team_game['efg'].fillna(0)"
   ]
  },
  {
   "cell_type": "code",
   "execution_count": null,
   "id": "3de53d67",
   "metadata": {},
   "outputs": [],
   "source": [
    "# Calculating True Shooting % \n",
    "team_game['ts'] = team_game['teamScore'] / (2 * (team_game['fieldGoalsAttempted'] + 0.44 * team_game['freeThrowsAttempted']))\n",
    "team_game['ts'] = team_game['ts'].fillna(0)"
   ]
  },
  {
   "cell_type": "code",
   "execution_count": null,
   "id": "0bc428ff",
   "metadata": {},
   "outputs": [],
   "source": [
    "# Calculating Possessions\n",
    "team_game['possessions'] = team_game['fieldGoalsAttempted'] - team_game['reboundsOffensive'] + team_game['turnovers'] + (0.4 * team_game['freeThrowsAttempted'])\n",
    "\n",
    "# Replace any 0's with NaN to avoid divide by zer0 error later on\n",
    "team_game['possessions'] = team_game['possessions'].replace(0, np.nan)"
   ]
  },
  {
   "cell_type": "code",
   "execution_count": null,
   "id": "aa68f75f",
   "metadata": {},
   "outputs": [],
   "source": [
    "# Offensive Rating (Point per 100 Possessions)\n",
    "team_game['off_rating'] = team_game['teamScore'] / team_game['possessions'] * 100\n",
    "\n",
    "# Defensive Rating (Opp Points per 100 Possessions)\n",
    "team_game['def_rating'] = team_game['opponentScore'] / team_game['possessions'] * 100\n",
    "\n",
    "# Turnovers per Possession\n",
    "team_game['to_per_poss'] = team_game['turnovers'] / team_game['possessions']"
   ]
  }
 ],
 "metadata": {
  "kernelspec": {
   "display_name": "Python 3",
   "language": "python",
   "name": "python3"
  },
  "language_info": {
   "codemirror_mode": {
    "name": "ipython",
    "version": 3
   },
   "file_extension": ".py",
   "mimetype": "text/x-python",
   "name": "python",
   "nbconvert_exporter": "python",
   "pygments_lexer": "ipython3",
   "version": "3.12.4"
  }
 },
 "nbformat": 4,
 "nbformat_minor": 5
}
