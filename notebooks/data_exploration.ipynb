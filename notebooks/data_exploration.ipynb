{
 "cells": [
  {
   "cell_type": "code",
   "execution_count": 1,
   "id": "9beca685",
   "metadata": {},
   "outputs": [],
   "source": [
    "import pandas as pd\n",
    "import numpy as np"
   ]
  },
  {
   "cell_type": "code",
   "execution_count": null,
   "id": "b4c69cd4",
   "metadata": {},
   "outputs": [
    {
     "name": "stderr",
     "output_type": "stream",
     "text": [
      "C:\\Users\\matth\\AppData\\Local\\Temp\\ipykernel_10480\\241580587.py:1: DtypeWarning: Columns (15) have mixed types. Specify dtype option on import or set low_memory=False.\n",
      "  games = pd.read_csv(r'..\\data\\raw\\Games.csv')\n"
     ]
    }
   ],
   "source": [
    "games = pd.read_csv(r'..\\data\\raw\\Games.csv', dtype={'gameLabel': str})\n",
    "games.head()\n",
    "# games.info()\n",
    "# games.isnull().sum()\n",
    "\n",
    "team_stats = pd.read_csv(r'..\\data\\raw\\TeamStatistics.csv')\n",
    "# team_stats.head()\n",
    "# team_stats.info()\n",
    "#team_stats.isnull().sum()\n"
   ]
  }
 ],
 "metadata": {
  "kernelspec": {
   "display_name": "Python 3",
   "language": "python",
   "name": "python3"
  },
  "language_info": {
   "codemirror_mode": {
    "name": "ipython",
    "version": 3
   },
   "file_extension": ".py",
   "mimetype": "text/x-python",
   "name": "python",
   "nbconvert_exporter": "python",
   "pygments_lexer": "ipython3",
   "version": "3.12.4"
  }
 },
 "nbformat": 4,
 "nbformat_minor": 5
}
